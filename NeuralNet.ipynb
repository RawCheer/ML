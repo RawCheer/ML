{
  "nbformat": 4,
  "nbformat_minor": 0,
  "metadata": {
    "colab": {
      "name": "NeuralNet.ipynb",
      "provenance": [],
      "authorship_tag": "ABX9TyPBYPhUiFtQnpVTExiymvMP",
      "include_colab_link": true
    },
    "kernelspec": {
      "name": "python3",
      "display_name": "Python 3"
    }
  },
  "cells": [
    {
      "cell_type": "markdown",
      "metadata": {
        "id": "view-in-github",
        "colab_type": "text"
      },
      "source": [
        "<a href=\"https://colab.research.google.com/github/RawCheer/ML/blob/master/NeuralNet.ipynb\" target=\"_parent\"><img src=\"https://colab.research.google.com/assets/colab-badge.svg\" alt=\"Open In Colab\"/></a>"
      ]
    },
    {
      "cell_type": "code",
      "metadata": {
        "id": "C5XTTCTh4h1C",
        "colab_type": "code",
        "colab": {
          "base_uri": "https://localhost:8080/",
          "height": 34
        },
        "outputId": "478dda9f-a644-4af8-e09b-c3ae70e900de"
      },
      "source": [
        "from keras.datasets import mnist\n",
        "import numpy as np"
      ],
      "execution_count": 1,
      "outputs": [
        {
          "output_type": "stream",
          "text": [
            "Using TensorFlow backend.\n"
          ],
          "name": "stderr"
        }
      ]
    },
    {
      "cell_type": "code",
      "metadata": {
        "id": "6RT-TicMDWyA",
        "colab_type": "code",
        "colab": {
          "base_uri": "https://localhost:8080/",
          "height": 119
        },
        "outputId": "5c77ec0a-9269-4f13-ab59-96307ed6d430"
      },
      "source": [
        "(x_train, y_train), (x_test, y_test) = mnist.load_data()\n",
        "print('Shape of x_train: ' + str(x_train.shape))\n",
        "print('Shape of x_test: ' + str(x_test.shape))\n",
        "print('Shape of y_train: ' + str(y_train.shape))\n",
        "print('Shape of y_test: ' + str(y_test.shape))"
      ],
      "execution_count": 2,
      "outputs": [
        {
          "output_type": "stream",
          "text": [
            "Downloading data from https://s3.amazonaws.com/img-datasets/mnist.npz\n",
            "11493376/11490434 [==============================] - 0s 0us/step\n",
            "Shape of x_train: (60000, 28, 28)\n",
            "Shape of x_test: (10000, 28, 28)\n",
            "Shape of y_train: (60000,)\n",
            "Shape of y_test: (10000,)\n"
          ],
          "name": "stdout"
        }
      ]
    },
    {
      "cell_type": "code",
      "metadata": {
        "id": "LjEy_O7pD1-9",
        "colab_type": "code",
        "colab": {}
      },
      "source": [
        "x_train_vec = x_train.reshape(60000,784)\n",
        "x_test_vec = x_test.reshape(10000,784)"
      ],
      "execution_count": 0,
      "outputs": []
    },
    {
      "cell_type": "code",
      "metadata": {
        "id": "zH5RLmSlEV1h",
        "colab_type": "code",
        "colab": {}
      },
      "source": [
        "def to_one_hot(labels, dimension = 10):\n",
        "  results = np.zeros((len(labels),dimension))\n",
        "  for i,label in enumerate(labels):\n",
        "    results[i,label] = 1\n",
        "  return results"
      ],
      "execution_count": 0,
      "outputs": []
    },
    {
      "cell_type": "code",
      "metadata": {
        "id": "iEeDZiAHIP-b",
        "colab_type": "code",
        "colab": {
          "base_uri": "https://localhost:8080/",
          "height": 34
        },
        "outputId": "5a9ab331-7673-4763-a92c-7c2daba0f24e"
      },
      "source": [
        "y_train_vec = to_one_hot(y_train)\n",
        "y_test_vec = to_one_hot(y_test)\n",
        "print('Shape of y_train_vec is '+ str(y_train_vec.shape))"
      ],
      "execution_count": 5,
      "outputs": [
        {
          "output_type": "stream",
          "text": [
            "Shape of y_train_vec is (60000, 10)\n"
          ],
          "name": "stdout"
        }
      ]
    },
    {
      "cell_type": "code",
      "metadata": {
        "id": "8c9u8HqUAPag",
        "colab_type": "code",
        "colab": {}
      },
      "source": [
        "rand_indices = np.random.permutation(60000)\n",
        "#random permutation likes LSH\n",
        "train_indices = rand_indices[:50000]\n",
        "valid_indices = rand_indices[50000:60000]\n",
        "\n",
        "x_valid_vec = x_train_vec[valid_indices,:]\n",
        "y_valid_vec = y_train_vec[valid_indices,:]\n",
        "\n",
        "x_train_vec = x_train_vec[train_indices,:]\n",
        "y_train_vec = y_train_vec[train_indices,:]"
      ],
      "execution_count": 0,
      "outputs": []
    },
    {
      "cell_type": "code",
      "metadata": {
        "id": "VQy3xF84BKSH",
        "colab_type": "code",
        "colab": {
          "base_uri": "https://localhost:8080/",
          "height": 187
        },
        "outputId": "182a38a2-47b0-4d9e-8e13-5e303a6d5367"
      },
      "source": [
        "from keras import models\n",
        "from keras import layers\n",
        "\n",
        "model = models.Sequential()\n",
        "model.add(layers.Dense(10,activation='softmax',input_shape=(784,)))\n",
        "\n",
        "model.summary()"
      ],
      "execution_count": 7,
      "outputs": [
        {
          "output_type": "stream",
          "text": [
            "Model: \"sequential_1\"\n",
            "_________________________________________________________________\n",
            "Layer (type)                 Output Shape              Param #   \n",
            "=================================================================\n",
            "dense_1 (Dense)              (None, 10)                7850      \n",
            "=================================================================\n",
            "Total params: 7,850\n",
            "Trainable params: 7,850\n",
            "Non-trainable params: 0\n",
            "_________________________________________________________________\n"
          ],
          "name": "stdout"
        }
      ]
    },
    {
      "cell_type": "code",
      "metadata": {
        "id": "b5Vx88nzBk7j",
        "colab_type": "code",
        "colab": {}
      },
      "source": [
        "from keras import optimizers\n",
        "model.compile(optimizers.RMSprop(lr = 0.0001),\n",
        "              loss = 'categorical_crossentropy',\n",
        "              metrics=['accuracy'])"
      ],
      "execution_count": 0,
      "outputs": []
    },
    {
      "cell_type": "code",
      "metadata": {
        "id": "HIEdhBVQYnVX",
        "colab_type": "code",
        "colab": {
          "base_uri": "https://localhost:8080/",
          "height": 1000
        },
        "outputId": "c6c15afd-4b66-4c3a-8766-9eb20d2643c0"
      },
      "source": [
        "history = model.fit(x_train_vec,y_train_vec,\n",
        "                    batch_size=128, epochs=50,\n",
        "                    validation_data=(x_valid_vec,y_valid_vec))"
      ],
      "execution_count": 9,
      "outputs": [
        {
          "output_type": "stream",
          "text": [
            "Train on 50000 samples, validate on 10000 samples\n",
            "Epoch 1/50\n",
            "50000/50000 [==============================] - 1s 21us/step - loss: 48.2472 - accuracy: 0.4689 - val_loss: 15.6444 - val_accuracy: 0.7230\n",
            "Epoch 2/50\n",
            "50000/50000 [==============================] - 1s 15us/step - loss: 11.7997 - accuracy: 0.7775 - val_loss: 9.0508 - val_accuracy: 0.8173\n",
            "Epoch 3/50\n",
            "50000/50000 [==============================] - 1s 15us/step - loss: 8.0599 - accuracy: 0.8313 - val_loss: 7.1238 - val_accuracy: 0.8452\n",
            "Epoch 4/50\n",
            "50000/50000 [==============================] - 1s 15us/step - loss: 6.5866 - accuracy: 0.8520 - val_loss: 6.2438 - val_accuracy: 0.8562\n",
            "Epoch 5/50\n",
            "50000/50000 [==============================] - 1s 15us/step - loss: 5.7624 - accuracy: 0.8621 - val_loss: 5.5577 - val_accuracy: 0.8651\n",
            "Epoch 6/50\n",
            "50000/50000 [==============================] - 1s 14us/step - loss: 5.2144 - accuracy: 0.8690 - val_loss: 5.1887 - val_accuracy: 0.8682\n",
            "Epoch 7/50\n",
            "50000/50000 [==============================] - 1s 15us/step - loss: 4.8030 - accuracy: 0.8738 - val_loss: 4.8504 - val_accuracy: 0.8750\n",
            "Epoch 8/50\n",
            "50000/50000 [==============================] - 1s 15us/step - loss: 4.4835 - accuracy: 0.8763 - val_loss: 4.5631 - val_accuracy: 0.8774\n",
            "Epoch 9/50\n",
            "50000/50000 [==============================] - 1s 15us/step - loss: 4.2239 - accuracy: 0.8784 - val_loss: 4.4176 - val_accuracy: 0.8765\n",
            "Epoch 10/50\n",
            "50000/50000 [==============================] - 1s 15us/step - loss: 3.9867 - accuracy: 0.8809 - val_loss: 4.2072 - val_accuracy: 0.8788\n",
            "Epoch 11/50\n",
            "50000/50000 [==============================] - 1s 15us/step - loss: 3.7851 - accuracy: 0.8824 - val_loss: 3.9752 - val_accuracy: 0.8815\n",
            "Epoch 12/50\n",
            "50000/50000 [==============================] - 1s 15us/step - loss: 3.6195 - accuracy: 0.8840 - val_loss: 3.8624 - val_accuracy: 0.8829\n",
            "Epoch 13/50\n",
            "50000/50000 [==============================] - 1s 15us/step - loss: 3.4575 - accuracy: 0.8849 - val_loss: 3.7731 - val_accuracy: 0.8837\n",
            "Epoch 14/50\n",
            "50000/50000 [==============================] - 1s 15us/step - loss: 3.3181 - accuracy: 0.8865 - val_loss: 3.6444 - val_accuracy: 0.8846\n",
            "Epoch 15/50\n",
            "50000/50000 [==============================] - 1s 15us/step - loss: 3.1881 - accuracy: 0.8880 - val_loss: 3.5465 - val_accuracy: 0.8843\n",
            "Epoch 16/50\n",
            "50000/50000 [==============================] - 1s 15us/step - loss: 3.0620 - accuracy: 0.8893 - val_loss: 3.5714 - val_accuracy: 0.8798\n",
            "Epoch 17/50\n",
            "50000/50000 [==============================] - 1s 15us/step - loss: 2.9628 - accuracy: 0.8892 - val_loss: 3.3526 - val_accuracy: 0.8864\n",
            "Epoch 18/50\n",
            "50000/50000 [==============================] - 1s 15us/step - loss: 2.8515 - accuracy: 0.8915 - val_loss: 3.2695 - val_accuracy: 0.8867\n",
            "Epoch 19/50\n",
            "50000/50000 [==============================] - 1s 15us/step - loss: 2.7451 - accuracy: 0.8908 - val_loss: 3.1952 - val_accuracy: 0.8847\n",
            "Epoch 20/50\n",
            "50000/50000 [==============================] - 1s 16us/step - loss: 2.6610 - accuracy: 0.8921 - val_loss: 3.0696 - val_accuracy: 0.8878\n",
            "Epoch 21/50\n",
            "50000/50000 [==============================] - 1s 15us/step - loss: 2.5877 - accuracy: 0.8927 - val_loss: 3.0365 - val_accuracy: 0.8843\n",
            "Epoch 22/50\n",
            "50000/50000 [==============================] - 1s 15us/step - loss: 2.4991 - accuracy: 0.8927 - val_loss: 2.9434 - val_accuracy: 0.8893\n",
            "Epoch 23/50\n",
            "50000/50000 [==============================] - 1s 15us/step - loss: 2.4218 - accuracy: 0.8936 - val_loss: 2.9043 - val_accuracy: 0.8884\n",
            "Epoch 24/50\n",
            "50000/50000 [==============================] - 1s 15us/step - loss: 2.3461 - accuracy: 0.8940 - val_loss: 2.8570 - val_accuracy: 0.8883\n",
            "Epoch 25/50\n",
            "50000/50000 [==============================] - 1s 15us/step - loss: 2.2838 - accuracy: 0.8951 - val_loss: 2.7882 - val_accuracy: 0.8886\n",
            "Epoch 26/50\n",
            "50000/50000 [==============================] - 1s 15us/step - loss: 2.2093 - accuracy: 0.8943 - val_loss: 2.7508 - val_accuracy: 0.8875\n",
            "Epoch 27/50\n",
            "50000/50000 [==============================] - 1s 15us/step - loss: 2.1498 - accuracy: 0.8956 - val_loss: 2.7283 - val_accuracy: 0.8846\n",
            "Epoch 28/50\n",
            "50000/50000 [==============================] - 1s 15us/step - loss: 2.0942 - accuracy: 0.8955 - val_loss: 2.6280 - val_accuracy: 0.8886\n",
            "Epoch 29/50\n",
            "50000/50000 [==============================] - 1s 15us/step - loss: 2.0473 - accuracy: 0.8969 - val_loss: 2.5883 - val_accuracy: 0.8880\n",
            "Epoch 30/50\n",
            "50000/50000 [==============================] - 1s 16us/step - loss: 1.9870 - accuracy: 0.8970 - val_loss: 2.5347 - val_accuracy: 0.8870\n",
            "Epoch 31/50\n",
            "50000/50000 [==============================] - 1s 15us/step - loss: 1.9338 - accuracy: 0.8982 - val_loss: 2.5059 - val_accuracy: 0.8888\n",
            "Epoch 32/50\n",
            "50000/50000 [==============================] - 1s 15us/step - loss: 1.8931 - accuracy: 0.8990 - val_loss: 2.5066 - val_accuracy: 0.8882\n",
            "Epoch 33/50\n",
            "50000/50000 [==============================] - 1s 15us/step - loss: 1.8429 - accuracy: 0.8987 - val_loss: 2.4371 - val_accuracy: 0.8848\n",
            "Epoch 34/50\n",
            "50000/50000 [==============================] - 1s 15us/step - loss: 1.7982 - accuracy: 0.8987 - val_loss: 2.3638 - val_accuracy: 0.8880\n",
            "Epoch 35/50\n",
            "50000/50000 [==============================] - 1s 15us/step - loss: 1.7612 - accuracy: 0.8986 - val_loss: 2.3683 - val_accuracy: 0.8851\n",
            "Epoch 36/50\n",
            "50000/50000 [==============================] - 1s 16us/step - loss: 1.7189 - accuracy: 0.9001 - val_loss: 2.3547 - val_accuracy: 0.8849\n",
            "Epoch 37/50\n",
            "50000/50000 [==============================] - 1s 15us/step - loss: 1.6798 - accuracy: 0.8999 - val_loss: 2.3210 - val_accuracy: 0.8878\n",
            "Epoch 38/50\n",
            "50000/50000 [==============================] - 1s 16us/step - loss: 1.6421 - accuracy: 0.9003 - val_loss: 2.2327 - val_accuracy: 0.8865\n",
            "Epoch 39/50\n",
            "50000/50000 [==============================] - 1s 16us/step - loss: 1.6002 - accuracy: 0.8998 - val_loss: 2.1746 - val_accuracy: 0.8895\n",
            "Epoch 40/50\n",
            "50000/50000 [==============================] - 1s 15us/step - loss: 1.5678 - accuracy: 0.9016 - val_loss: 2.2167 - val_accuracy: 0.8861\n",
            "Epoch 41/50\n",
            "50000/50000 [==============================] - 1s 15us/step - loss: 1.5278 - accuracy: 0.9014 - val_loss: 2.1440 - val_accuracy: 0.8851\n",
            "Epoch 42/50\n",
            "50000/50000 [==============================] - 1s 15us/step - loss: 1.4982 - accuracy: 0.9024 - val_loss: 2.1905 - val_accuracy: 0.8861\n",
            "Epoch 43/50\n",
            "50000/50000 [==============================] - 1s 15us/step - loss: 1.4694 - accuracy: 0.9017 - val_loss: 2.0546 - val_accuracy: 0.8890\n",
            "Epoch 44/50\n",
            "50000/50000 [==============================] - 1s 15us/step - loss: 1.4373 - accuracy: 0.9033 - val_loss: 2.0468 - val_accuracy: 0.8865\n",
            "Epoch 45/50\n",
            "50000/50000 [==============================] - 1s 14us/step - loss: 1.4091 - accuracy: 0.9018 - val_loss: 2.0624 - val_accuracy: 0.8861\n",
            "Epoch 46/50\n",
            "50000/50000 [==============================] - 1s 15us/step - loss: 1.3835 - accuracy: 0.9027 - val_loss: 1.9590 - val_accuracy: 0.8884\n",
            "Epoch 47/50\n",
            "50000/50000 [==============================] - 1s 15us/step - loss: 1.3540 - accuracy: 0.9015 - val_loss: 1.9549 - val_accuracy: 0.8890\n",
            "Epoch 48/50\n",
            "50000/50000 [==============================] - 1s 15us/step - loss: 1.3286 - accuracy: 0.9023 - val_loss: 2.0499 - val_accuracy: 0.8855\n",
            "Epoch 49/50\n",
            "50000/50000 [==============================] - 1s 15us/step - loss: 1.3002 - accuracy: 0.9032 - val_loss: 1.9789 - val_accuracy: 0.8842\n",
            "Epoch 50/50\n",
            "50000/50000 [==============================] - 1s 15us/step - loss: 1.2763 - accuracy: 0.9041 - val_loss: 1.9668 - val_accuracy: 0.8860\n"
          ],
          "name": "stdout"
        }
      ]
    },
    {
      "cell_type": "code",
      "metadata": {
        "id": "jI7rjJW_dYS5",
        "colab_type": "code",
        "colab": {
          "base_uri": "https://localhost:8080/",
          "height": 279
        },
        "outputId": "f4e23f68-0763-47a5-9fc1-8e4aa416212e"
      },
      "source": [
        "import matplotlib.pyplot as plt\n",
        "%matplotlib inline\n",
        "\n",
        "epochs = range(50)\n",
        "train_acc = history.history['accuracy']\n",
        "valid_acc = history.history['val_accuracy']\n",
        "plt.plot(epochs, train_acc,'bo',label = 'Training Accuracy')\n",
        "plt.plot(epochs, valid_acc,'r',label= 'Validation Accuracy')\n",
        "plt.xlabel('Epochs')\n",
        "plt.ylabel('Accuracy')\n",
        "plt.legend()\n",
        "plt.show()"
      ],
      "execution_count": 11,
      "outputs": [
        {
          "output_type": "display_data",
          "data": {
            "image/png": "[encoded data removed]",
            "text/plain": [
              "<Figure size 432x288 with 1 Axes>"
            ]
          },
          "metadata": {
            "tags": [],
            "needs_background": "light"
          }
        }
      ]
    },
    {
      "cell_type": "code",
      "metadata": {
        "id": "y1x7cH3TeeqX",
        "colab_type": "code",
        "colab": {
          "base_uri": "https://localhost:8080/",
          "height": 68
        },
        "outputId": "2a503fdb-1272-4bb8-cdf3-3e778ef26c35"
      },
      "source": [
        "loss_and_acc = model.evaluate(x_test_vec,y_test_vec)\n",
        "print('loss = '+str(loss_and_acc[0]))\n",
        "print('accuracy = '+str(loss_and_acc[1]))"
      ],
      "execution_count": 12,
      "outputs": [
        {
          "output_type": "stream",
          "text": [
            "10000/10000 [==============================] - 0s 19us/step\n",
            "loss = 1.9390788737671667\n",
            "accuracy = 0.8862000107765198\n"
          ],
          "name": "stdout"
        }
      ]
    },
    {
      "cell_type": "code",
      "metadata": {
        "id": "CxfTMzXagfaK",
        "colab_type": "code",
        "colab": {}
      },
      "source": [
        ""
      ],
      "execution_count": 0,
      "outputs": []
    },
    {
      "cell_type": "code",
      "metadata": {
        "id": "j-8jnRupgxpU",
        "colab_type": "code",
        "colab": {}
      },
      "source": [
        "from keras import models\n",
        "from keras import layers\n",
        "\n",
        "d1 = 500 #width of the 1st hidden layer\n",
        "d2 = 500\n",
        "\n",
        "model = models.Sequential()\n",
        "model.add(layers.Dense(d1,activation='relu',input_shape=(784,)))\n",
        "model.add(layers.Dense(d1,activation='relu'))\n",
        "model.add(layers.Dense(10,activation='softmax'))"
      ],
      "execution_count": 0,
      "outputs": []
    },
    {
      "cell_type": "code",
      "metadata": {
        "id": "fSrZAsljhtqH",
        "colab_type": "code",
        "colab": {
          "base_uri": "https://localhost:8080/",
          "height": 255
        },
        "outputId": "2f28513d-86e0-42ac-cedb-a808fef09350"
      },
      "source": [
        "model.summary()"
      ],
      "execution_count": 15,
      "outputs": [
        {
          "output_type": "stream",
          "text": [
            "Model: \"sequential_2\"\n",
            "_________________________________________________________________\n",
            "Layer (type)                 Output Shape              Param #   \n",
            "=================================================================\n",
            "dense_2 (Dense)              (None, 500)               392500    \n",
            "_________________________________________________________________\n",
            "dense_3 (Dense)              (None, 500)               250500    \n",
            "_________________________________________________________________\n",
            "dense_4 (Dense)              (None, 10)                5010      \n",
            "=================================================================\n",
            "Total params: 648,010\n",
            "Trainable params: 648,010\n",
            "Non-trainable params: 0\n",
            "_________________________________________________________________\n"
          ],
          "name": "stdout"
        }
      ]
    },
    {
      "cell_type": "code",
      "metadata": {
        "id": "ujm8m0kjhwJH",
        "colab_type": "code",
        "colab": {}
      },
      "source": [
        "from keras import optimizers\n",
        "model.compile(optimizers.RMSprop(lr = 0.0001),\n",
        "              loss = 'categorical_crossentropy',\n",
        "              metrics=['accuracy'])"
      ],
      "execution_count": 0,
      "outputs": []
    },
    {
      "cell_type": "code",
      "metadata": {
        "id": "pBbh6SLXh-WF",
        "colab_type": "code",
        "colab": {
          "base_uri": "https://localhost:8080/",
          "height": 1000
        },
        "outputId": "2a0cd8b2-a36c-40e4-9407-8e1b83afd29a"
      },
      "source": [
        "history = model.fit(x_train_vec,y_train_vec,\n",
        "                    batch_size=128, epochs=50,\n",
        "                    validation_data=(x_valid_vec,y_valid_vec))"
      ],
      "execution_count": 17,
      "outputs": [
        {
          "output_type": "stream",
          "text": [
            "Train on 50000 samples, validate on 10000 samples\n",
            "Epoch 1/50\n",
            "50000/50000 [==============================] - 6s 127us/step - loss: 4.3176 - accuracy: 0.8456 - val_loss: 1.6536 - val_accuracy: 0.9194\n",
            "Epoch 2/50\n",
            "50000/50000 [==============================] - 6s 126us/step - loss: 1.0196 - accuracy: 0.9380 - val_loss: 1.3288 - val_accuracy: 0.9262\n",
            "Epoch 3/50\n",
            "50000/50000 [==============================] - 6s 126us/step - loss: 0.5391 - accuracy: 0.9604 - val_loss: 0.9741 - val_accuracy: 0.9430\n",
            "Epoch 4/50\n",
            "50000/50000 [==============================] - 6s 127us/step - loss: 0.3175 - accuracy: 0.9720 - val_loss: 0.8518 - val_accuracy: 0.9498\n",
            "Epoch 5/50\n",
            "50000/50000 [==============================] - 6s 128us/step - loss: 0.1916 - accuracy: 0.9793 - val_loss: 0.7574 - val_accuracy: 0.9547\n",
            "Epoch 6/50\n",
            "50000/50000 [==============================] - 6s 126us/step - loss: 0.1411 - accuracy: 0.9839 - val_loss: 0.7522 - val_accuracy: 0.9568\n",
            "Epoch 7/50\n",
            "50000/50000 [==============================] - 6s 126us/step - loss: 0.0979 - accuracy: 0.9879 - val_loss: 0.8502 - val_accuracy: 0.9548\n",
            "Epoch 8/50\n",
            "50000/50000 [==============================] - 6s 126us/step - loss: 0.0804 - accuracy: 0.9897 - val_loss: 0.7148 - val_accuracy: 0.9617\n",
            "Epoch 9/50\n",
            "50000/50000 [==============================] - 6s 125us/step - loss: 0.0632 - accuracy: 0.9917 - val_loss: 0.6823 - val_accuracy: 0.9625\n",
            "Epoch 10/50\n",
            "50000/50000 [==============================] - 6s 126us/step - loss: 0.0508 - accuracy: 0.9928 - val_loss: 0.6888 - val_accuracy: 0.9639\n",
            "Epoch 11/50\n",
            "50000/50000 [==============================] - 6s 125us/step - loss: 0.0417 - accuracy: 0.9939 - val_loss: 0.6661 - val_accuracy: 0.9637\n",
            "Epoch 12/50\n",
            "50000/50000 [==============================] - 6s 125us/step - loss: 0.0359 - accuracy: 0.9945 - val_loss: 0.6673 - val_accuracy: 0.9646\n",
            "Epoch 13/50\n",
            "50000/50000 [==============================] - 6s 125us/step - loss: 0.0399 - accuracy: 0.9944 - val_loss: 0.6985 - val_accuracy: 0.9625\n",
            "Epoch 14/50\n",
            "50000/50000 [==============================] - 6s 125us/step - loss: 0.0248 - accuracy: 0.9961 - val_loss: 0.6938 - val_accuracy: 0.9669\n",
            "Epoch 15/50\n",
            "50000/50000 [==============================] - 6s 125us/step - loss: 0.0333 - accuracy: 0.9949 - val_loss: 0.6767 - val_accuracy: 0.9647\n",
            "Epoch 16/50\n",
            "50000/50000 [==============================] - 6s 125us/step - loss: 0.0256 - accuracy: 0.9958 - val_loss: 0.7358 - val_accuracy: 0.9637\n",
            "Epoch 17/50\n",
            "50000/50000 [==============================] - 6s 127us/step - loss: 0.0251 - accuracy: 0.9967 - val_loss: 0.7125 - val_accuracy: 0.9642\n",
            "Epoch 18/50\n",
            "50000/50000 [==============================] - 6s 125us/step - loss: 0.0207 - accuracy: 0.9969 - val_loss: 0.7272 - val_accuracy: 0.9664\n",
            "Epoch 19/50\n",
            "50000/50000 [==============================] - 6s 126us/step - loss: 0.0186 - accuracy: 0.9974 - val_loss: 0.6942 - val_accuracy: 0.9661\n",
            "Epoch 20/50\n",
            "50000/50000 [==============================] - 6s 125us/step - loss: 0.0154 - accuracy: 0.9975 - val_loss: 0.6972 - val_accuracy: 0.9654\n",
            "Epoch 21/50\n",
            "50000/50000 [==============================] - 6s 125us/step - loss: 0.0145 - accuracy: 0.9978 - val_loss: 0.6907 - val_accuracy: 0.9640\n",
            "Epoch 22/50\n",
            "50000/50000 [==============================] - 6s 123us/step - loss: 0.0191 - accuracy: 0.9974 - val_loss: 0.6561 - val_accuracy: 0.9674\n",
            "Epoch 23/50\n",
            "50000/50000 [==============================] - 6s 125us/step - loss: 0.0155 - accuracy: 0.9979 - val_loss: 0.7297 - val_accuracy: 0.9660\n",
            "Epoch 24/50\n",
            "50000/50000 [==============================] - 6s 126us/step - loss: 0.0164 - accuracy: 0.9977 - val_loss: 0.7735 - val_accuracy: 0.9665\n",
            "Epoch 25/50\n",
            "50000/50000 [==============================] - 6s 124us/step - loss: 0.0136 - accuracy: 0.9979 - val_loss: 0.6717 - val_accuracy: 0.9671\n",
            "Epoch 26/50\n",
            "50000/50000 [==============================] - 6s 126us/step - loss: 0.0172 - accuracy: 0.9978 - val_loss: 0.7365 - val_accuracy: 0.9666\n",
            "Epoch 27/50\n",
            "50000/50000 [==============================] - 6s 124us/step - loss: 0.0108 - accuracy: 0.9984 - val_loss: 0.7268 - val_accuracy: 0.9681\n",
            "Epoch 28/50\n",
            "50000/50000 [==============================] - 6s 125us/step - loss: 0.0090 - accuracy: 0.9986 - val_loss: 0.7279 - val_accuracy: 0.9683\n",
            "Epoch 29/50\n",
            "50000/50000 [==============================] - 6s 125us/step - loss: 0.0091 - accuracy: 0.9982 - val_loss: 0.7024 - val_accuracy: 0.9692\n",
            "Epoch 30/50\n",
            "50000/50000 [==============================] - 6s 126us/step - loss: 0.0082 - accuracy: 0.9987 - val_loss: 0.7349 - val_accuracy: 0.9693\n",
            "Epoch 31/50\n",
            "50000/50000 [==============================] - 6s 129us/step - loss: 0.0071 - accuracy: 0.9986 - val_loss: 0.7405 - val_accuracy: 0.9685\n",
            "Epoch 32/50\n",
            "50000/50000 [==============================] - 7s 136us/step - loss: 0.0102 - accuracy: 0.9985 - val_loss: 0.7534 - val_accuracy: 0.9689\n",
            "Epoch 33/50\n",
            "50000/50000 [==============================] - 6s 127us/step - loss: 0.0076 - accuracy: 0.9990 - val_loss: 0.7254 - val_accuracy: 0.9703\n",
            "Epoch 34/50\n",
            "50000/50000 [==============================] - 6s 125us/step - loss: 0.0076 - accuracy: 0.9990 - val_loss: 0.7262 - val_accuracy: 0.9705\n",
            "Epoch 35/50\n",
            "50000/50000 [==============================] - 6s 125us/step - loss: 0.0077 - accuracy: 0.9988 - val_loss: 0.6825 - val_accuracy: 0.9731\n",
            "Epoch 36/50\n",
            "50000/50000 [==============================] - 6s 125us/step - loss: 0.0072 - accuracy: 0.9989 - val_loss: 0.7279 - val_accuracy: 0.9687\n",
            "Epoch 37/50\n",
            "50000/50000 [==============================] - 6s 125us/step - loss: 0.0090 - accuracy: 0.9986 - val_loss: 0.7070 - val_accuracy: 0.9706\n",
            "Epoch 38/50\n",
            "50000/50000 [==============================] - 6s 123us/step - loss: 0.0085 - accuracy: 0.9985 - val_loss: 0.7044 - val_accuracy: 0.9721\n",
            "Epoch 39/50\n",
            "50000/50000 [==============================] - 6s 126us/step - loss: 0.0062 - accuracy: 0.9991 - val_loss: 0.6873 - val_accuracy: 0.9724\n",
            "Epoch 40/50\n",
            "50000/50000 [==============================] - 6s 125us/step - loss: 0.0069 - accuracy: 0.9990 - val_loss: 0.7662 - val_accuracy: 0.9722\n",
            "Epoch 41/50\n",
            "50000/50000 [==============================] - 6s 125us/step - loss: 0.0051 - accuracy: 0.9991 - val_loss: 0.6923 - val_accuracy: 0.9728\n",
            "Epoch 42/50\n",
            "50000/50000 [==============================] - 6s 125us/step - loss: 0.0060 - accuracy: 0.9991 - val_loss: 0.7126 - val_accuracy: 0.9728\n",
            "Epoch 43/50\n",
            "50000/50000 [==============================] - 6s 125us/step - loss: 0.0040 - accuracy: 0.9992 - val_loss: 0.7291 - val_accuracy: 0.9709\n",
            "Epoch 44/50\n",
            "50000/50000 [==============================] - 6s 126us/step - loss: 0.0045 - accuracy: 0.9991 - val_loss: 0.7178 - val_accuracy: 0.9734\n",
            "Epoch 45/50\n",
            "50000/50000 [==============================] - 6s 123us/step - loss: 0.0037 - accuracy: 0.9994 - val_loss: 0.7132 - val_accuracy: 0.9733\n",
            "Epoch 46/50\n",
            "50000/50000 [==============================] - 6s 125us/step - loss: 0.0043 - accuracy: 0.9993 - val_loss: 0.7892 - val_accuracy: 0.9710\n",
            "Epoch 47/50\n",
            "50000/50000 [==============================] - 6s 126us/step - loss: 0.0026 - accuracy: 0.9995 - val_loss: 0.7346 - val_accuracy: 0.9729\n",
            "Epoch 48/50\n",
            "50000/50000 [==============================] - 6s 125us/step - loss: 0.0042 - accuracy: 0.9992 - val_loss: 0.8066 - val_accuracy: 0.9715\n",
            "Epoch 49/50\n",
            "50000/50000 [==============================] - 6s 125us/step - loss: 0.0055 - accuracy: 0.9992 - val_loss: 0.7175 - val_accuracy: 0.9735\n",
            "Epoch 50/50\n",
            "50000/50000 [==============================] - 6s 124us/step - loss: 0.0033 - accuracy: 0.9994 - val_loss: 0.7892 - val_accuracy: 0.9694\n"
          ],
          "name": "stdout"
        }
      ]
    },
    {
      "cell_type": "code",
      "metadata": {
        "id": "S8iF1B_YiFom",
        "colab_type": "code",
        "colab": {
          "base_uri": "https://localhost:8080/",
          "height": 279
        },
        "outputId": "d33bd34f-b42e-43ba-fc4e-8a61caa01b23"
      },
      "source": [
        "import matplotlib.pyplot as plt\n",
        "%matplotlib inline\n",
        "\n",
        "epochs = range(50)\n",
        "train_acc = history.history['accuracy']\n",
        "valid_acc = history.history['val_accuracy']\n",
        "plt.plot(epochs, train_acc,'bo',label = 'Training Accuracy')\n",
        "plt.plot(epochs, valid_acc,'r',label= 'Validation Accuracy')\n",
        "plt.xlabel('Epochs')\n",
        "plt.ylabel('Accuracy')\n",
        "plt.legend()\n",
        "plt.show()"
      ],
      "execution_count": 18,
      "outputs": [
        {
          "output_type": "display_data",
          "data": {
            "image/png": "[encoded data removed]",
            "text/plain": [
              "<Figure size 432x288 with 1 Axes>"
            ]
          },
          "metadata": {
            "tags": [],
            "needs_background": "light"
          }
        }
      ]
    },
    {
      "cell_type": "code",
      "metadata": {
        "id": "FW-bpNLjiI_U",
        "colab_type": "code",
        "colab": {
          "base_uri": "https://localhost:8080/",
          "height": 68
        },
        "outputId": "ef582504-8291-40a5-8c92-c455b2f6c118"
      },
      "source": [
        "loss_and_acc = model.evaluate(x_test_vec,y_test_vec)\n",
        "print('loss = '+str(loss_and_acc[0]))\n",
        "print('accuracy = '+str(loss_and_acc[1]))"
      ],
      "execution_count": 19,
      "outputs": [
        {
          "output_type": "stream",
          "text": [
            "10000/10000 [==============================] - 1s 66us/step\n",
            "loss = 0.8083058192223674\n",
            "accuracy = 0.9692000150680542\n"
          ],
          "name": "stdout"
        }
      ]
    },
    {
      "cell_type": "code",
      "metadata": {
        "id": "nnpf05oPiLXE",
        "colab_type": "code",
        "colab": {}
      },
      "source": [
        ""
      ],
      "execution_count": 0,
      "outputs": []
    }
  ]
}