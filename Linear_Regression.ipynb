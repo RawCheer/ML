{
  "nbformat": 4,
  "nbformat_minor": 0,
  "metadata": {
    "kernelspec": {
      "language": "python",
      "display_name": "Python 3",
      "name": "python3"
    },
    "language_info": {
      "pygments_lexer": "ipython3",
      "nbconvert_exporter": "python",
      "version": "3.6.4",
      "file_extension": ".py",
      "codemirror_mode": {
        "name": "ipython",
        "version": 3
      },
      "name": "python",
      "mimetype": "text/x-python"
    },
    "colab": {
      "name": "Linear Regression.ipynb",
      "provenance": [],
      "include_colab_link": true
    }
  },
  "cells": [
    {
      "cell_type": "markdown",
      "metadata": {
        "id": "view-in-github",
        "colab_type": "text"
      },
      "source": [
        "<a href=\"https://colab.research.google.com/github/RawCheer/ML/blob/master/Linear_Regression.ipynb\" target=\"_parent\"><img src=\"https://colab.research.google.com/assets/colab-badge.svg\" alt=\"Open In Colab\"/></a>"
      ]
    },
    {
      "cell_type": "code",
      "metadata": {
        "_uuid": "8f2839f25d086af736a60e9eeb907d3b93b6e0e5",
        "_cell_guid": "b1076dfc-b9ad-4769-8c92-a6c4dae69d19",
        "trusted": true,
        "id": "a75_Q13OZll1",
        "colab_type": "code",
        "colab": {}
      },
      "source": [
        "# This Python 3 environment comes with many helpful analytics libraries installed\n",
        "# It is defined by the kaggle/python docker image: https://github.com/kaggle/docker-python\n",
        "# For example, here's several helpful packages to load in \n",
        "\n",
        "import numpy as np # linear algebra\n",
        "import pandas as pd # data processing, CSV file I/O (e.g. pd.read_csv)\n",
        "\n",
        "# Input data files are available in the \"../input/\" directory.\n",
        "# For example, running this (by clicking run or pressing Shift+Enter) will list all files under the input directory\n",
        "\n",
        "import os\n",
        "for dirname, _, filenames in os.walk('/kaggle/input'):\n",
        "    for filename in filenames:\n",
        "        print(os.path.join(dirname, filename))\n",
        "\n",
        "# Any results you write to the current directory are saved as output."
      ],
      "execution_count": 0,
      "outputs": []
    },
    {
      "cell_type": "code",
      "metadata": {
        "id": "aPFlF1loLNui",
        "colab_type": "code",
        "colab": {
          "base_uri": "https://localhost:8080/",
          "height": 34
        },
        "outputId": "ef58d7bb-9f6b-4ad4-a9ce-225b95c2ac48"
      },
      "source": [
        "from keras.datasets import boston_housing\n",
        "import numpy as np"
      ],
      "execution_count": 1,
      "outputs": [
        {
          "output_type": "stream",
          "text": [
            "Using TensorFlow backend.\n"
          ],
          "name": "stderr"
        }
      ]
    },
    {
      "cell_type": "code",
      "metadata": {
        "id": "MCv9T0QCLSVP",
        "colab_type": "code",
        "outputId": "f1bb398f-f29a-4029-88fa-22070aa1b189",
        "colab": {
          "base_uri": "https://localhost:8080/",
          "height": 119
        }
      },
      "source": [
        "(x_train,y_train),(x_test,y_test) = boston_housing.load_data()\n",
        "print('shape of x_train: '+str(x_train.shape))\n",
        "print('shape of y_train: '+str(y_train.shape))\n",
        "print('shape of x_test: '+str(x_test.shape))\n",
        "print('shape of y_test: '+str(y_test.shape))"
      ],
      "execution_count": 2,
      "outputs": [
        {
          "output_type": "stream",
          "text": [
            "Downloading data from https://s3.amazonaws.com/keras-datasets/boston_housing.npz\n",
            "57344/57026 [==============================] - 0s 0us/step\n",
            "shape of x_train: (404, 13)\n",
            "shape of y_train: (404,)\n",
            "shape of x_test: (102, 13)\n",
            "shape of y_test: (102,)\n"
          ],
          "name": "stdout"
        }
      ]
    },
    {
      "cell_type": "code",
      "metadata": {
        "id": "TCaywg2oLvsA",
        "colab_type": "code",
        "colab": {}
      },
      "source": [
        "n,d = x_train.shape\n",
        "#添加一个维度 value都是1\n",
        "xbar_train = np.concatenate((x_train,np.ones((n,1))),axis = 1)\n",
        "#np.ones 第一个参数是矩阵维度（r,c）"
      ],
      "execution_count": 0,
      "outputs": []
    },
    {
      "cell_type": "code",
      "metadata": {
        "id": "llmrsA5RMKPM",
        "colab_type": "code",
        "colab": {}
      },
      "source": [
        "xx = np.dot(xbar_train.T, xbar_train)\n",
        "xx_inv = np.linalg.pinv(xx)\n",
        "#Compute the (Moore-Penrose) pseudo-inverse of a matrix.\n",
        "xy = np.dot(xbar_train.T, y_train)\n",
        "w = np.dot(xx_inv,xy)"
      ],
      "execution_count": 0,
      "outputs": []
    },
    {
      "cell_type": "code",
      "metadata": {
        "id": "fBd5zPRePYka",
        "colab_type": "code",
        "outputId": "f8d0f039-d858-4a01-a3a9-6b4b8db13fc6",
        "colab": {
          "base_uri": "https://localhost:8080/",
          "height": 34
        }
      },
      "source": [
        "y_lsr = np.dot(xbar_train,w)\n",
        "diff = y_lsr - y_train\n",
        "mse = np.mean(diff*diff)\n",
        "print('Train MSE: '+str(mse))"
      ],
      "execution_count": 5,
      "outputs": [
        {
          "output_type": "stream",
          "text": [
            "Train MSE: 22.004800838348142\n"
          ],
          "name": "stdout"
        }
      ]
    },
    {
      "cell_type": "code",
      "metadata": {
        "id": "f2s51SrtPsXs",
        "colab_type": "code",
        "colab": {
          "base_uri": "https://localhost:8080/",
          "height": 34
        },
        "outputId": "657e23dd-5e7f-4d08-fd75-9c61ae1a6afe"
      },
      "source": [
        "x_test.shape"
      ],
      "execution_count": 6,
      "outputs": [
        {
          "output_type": "execute_result",
          "data": {
            "text/plain": [
              "(102, 13)"
            ]
          },
          "metadata": {
            "tags": []
          },
          "execution_count": 6
        }
      ]
    },
    {
      "cell_type": "code",
      "metadata": {
        "id": "yufnkIRPzAeF",
        "colab_type": "code",
        "colab": {
          "base_uri": "https://localhost:8080/",
          "height": 34
        },
        "outputId": "35a41d96-d6ff-4759-ed66-4d7209233852"
      },
      "source": [
        "x_train.shape"
      ],
      "execution_count": 7,
      "outputs": [
        {
          "output_type": "execute_result",
          "data": {
            "text/plain": [
              "(404, 13)"
            ]
          },
          "metadata": {
            "tags": []
          },
          "execution_count": 7
        }
      ]
    },
    {
      "cell_type": "code",
      "metadata": {
        "id": "Zp2kIj1DzEId",
        "colab_type": "code",
        "colab": {}
      },
      "source": [
        "n_test,_ = x_test.shape\n",
        "xbar_test = np.concatenate((x_test,np.ones((n_test,1))),axis =1)\n",
        "y_pred = np.dot(xbar_test,w)"
      ],
      "execution_count": 0,
      "outputs": []
    },
    {
      "cell_type": "code",
      "metadata": {
        "id": "mwRNuy5dzX2T",
        "colab_type": "code",
        "colab": {
          "base_uri": "https://localhost:8080/",
          "height": 34
        },
        "outputId": "192dd4ef-5173-4e5b-b3eb-e0d424f7a710"
      },
      "source": [
        "diff = y_pred - y_test\n",
        "mse = np.mean(diff*diff)\n",
        "print('Test MSE: '+str(mse))"
      ],
      "execution_count": 10,
      "outputs": [
        {
          "output_type": "stream",
          "text": [
            "Test MSE: 23.195599256426686\n"
          ],
          "name": "stdout"
        }
      ]
    },
    {
      "cell_type": "code",
      "metadata": {
        "id": "MzQfzNbXzaw4",
        "colab_type": "code",
        "colab": {}
      },
      "source": [
        ""
      ],
      "execution_count": 0,
      "outputs": []
    }
  ]
}